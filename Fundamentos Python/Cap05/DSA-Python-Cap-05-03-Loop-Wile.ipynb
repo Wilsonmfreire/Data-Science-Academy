{
 "cells": [
  {
   "cell_type": "markdown",
   "metadata": {},
   "source": [
    "# Data Science Academy\n",
    "\n",
    "## Fundamentos de Linguagem Python para análise de dados e data science\n",
    "\n",
    "## Capítulo 5"
   ]
  },
  {
   "cell_type": "code",
   "execution_count": 1,
   "metadata": {},
   "outputs": [
    {
     "name": "stdout",
     "output_type": "stream",
     "text": [
      "Versão da linguagem Python usada nesse notebook: 3.12.0rc3\n"
     ]
    }
   ],
   "source": [
    "# Versão da linguagem Python\n",
    "from platform import python_version\n",
    "print('Versão da linguagem Python usada nesse notebook:', python_version())"
   ]
  },
  {
   "cell_type": "markdown",
   "metadata": {},
   "source": [
    "## While e For Juntos\n",
    "Vamos encontrar números primos em uma coleção de números usando loop While e For juntos.\n",
    "\n",
    "Um número primo é um número natural maior do que 1 que é divisível apenas por 1 e por ele mesmo. Isso significa que não há nenhum outro número inteiro que possa dividir o número primo sem deixar resto. Por exemplo, o número 2 é primo, pois é divisível apenas por 1 e 2. O número 4 não é primo, pois é divisível por 2.\n",
    "\n",
    "Aqui está o pseudocódigo:"
   ]
  },
  {
   "cell_type": "code",
   "execution_count": 4,
   "metadata": {},
   "outputs": [],
   "source": [
    "\n",
    "# Inicialize uma lista vazia para armazenar os números primos \n",
    "# Para cada número N entre 2 e 30: \n",
    "#     Inicialize uma variável eh_primo como verdadeira \n",
    "#     Para cada número i entre 2 e N/2: \n",
    "#         Se N é divisível por i, então: \n",
    "#             Altere a variável eh_primo para falso \n",
    "#             Pare de verificar os outros números \n",
    "#     Se a variável eh_primo ainda é verdadeira, adicione N à lista de números primos \n",
    "# Imprima a lista de números primos "
   ]
  },
  {
   "cell_type": "code",
   "execution_count": 8,
   "metadata": {},
   "outputs": [
    {
     "name": "stdout",
     "output_type": "stream",
     "text": [
      "[2, 3, 5, 7, 11, 13, 17, 19, 23, 29]\n",
      "CPU times: total: 0 ns\n",
      "Wall time: 1 ms\n"
     ]
    }
   ],
   "source": [
    "%%time\n",
    "\n",
    "# Encontrando números primos entre 2 e 30 usando loop for e while\n",
    "\n",
    "# Variável para armazenar números primos\n",
    "primos = []\n",
    "\n",
    "# Loop for para percorrer números de 2 a 30\n",
    "for num in range(2,31):\n",
    "    \n",
    "    # Variável de controle\n",
    "    eh_primo = True\n",
    "    \n",
    "    # Loop while para virificar se o número é primo\n",
    "    i = 2\n",
    "    while i <= num // 2:\n",
    "        if num % i == 0:\n",
    "            eh_primo = False\n",
    "            break\n",
    "        i += 1\n",
    "    \n",
    "    # Adicionando o número primo na lista\n",
    "    if eh_primo:\n",
    "        primos.append(num)\n",
    "\n",
    "# Imprimindo a lista de números primos\n",
    "print(primos)"
   ]
  }
 ],
 "metadata": {
  "kernelspec": {
   "display_name": "Python 3",
   "language": "python",
   "name": "python3"
  },
  "language_info": {
   "codemirror_mode": {
    "name": "ipython",
    "version": 3
   },
   "file_extension": ".py",
   "mimetype": "text/x-python",
   "name": "python",
   "nbconvert_exporter": "python",
   "pygments_lexer": "ipython3",
   "version": "3.12.0"
  }
 },
 "nbformat": 4,
 "nbformat_minor": 2
}
