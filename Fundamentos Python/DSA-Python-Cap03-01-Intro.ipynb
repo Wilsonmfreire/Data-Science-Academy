{
 "cells": [
  {
   "cell_type": "markdown",
   "metadata": {},
   "source": [
    "# Data Science Academy\n",
    "\n",
    "# Fundamentos de Linguagem Python Para Análise de Dadoos e Data Science\n",
    "\n",
    "# Capítulo 3 - Introdução à Lógica de Programação"
   ]
  },
  {
   "cell_type": "code",
   "execution_count": null,
   "metadata": {},
   "outputs": [
    {
     "name": "stdout",
     "output_type": "stream",
     "text": [
      "Versão da Linguagem Python Usada Neste Notebook: 3.12.0rc3\n"
     ]
    }
   ],
   "source": [
    "# Versão da Linguagem Python\n",
    "from platform import python_version\n",
    "print('Versão da Linguagem Python Usada Neste Notebook:', python_version())"
   ]
  },
  {
   "cell_type": "markdown",
   "metadata": {},
   "source": [
    "# Pseudocódigo 1- Calcular a Área de um Paralelograma\n",
    "Nota: Um paralelograma é um quadrilátero com lados opostos paralelos (e portanto ângulos opostos iguais). Um quadrilátero com lados iguais é chamado de losango e um paralelogramo cujo ângulos são todos ângulos retos é chamado de retângulo."
   ]
  },
  {
   "cell_type": "markdown",
   "metadata": {},
   "source": [
    "**Inicie**\n",
    "- Exiba \"Bem vindo ao Calculador de Área de Paralelogramo\"\n",
    "- Peça para o usuário inserir o comprimento da base\n",
    "- Peça para o usuário inserir a altura\n",
    "- Armazene o comprimento da base em uma variável\n",
    "- Calcule a área do paralelogramo: base * altura\n",
    "- Armazene o resultado em uma vairável\n",
    "- Exiba o resultado\n",
    "  \n",
    "**Fim** "
   ]
  },
  {
   "cell_type": "markdown",
   "metadata": {},
   "source": [
    "# Convertendo o Pseudocódigo 1 em Programa Python"
   ]
  },
  {
   "cell_type": "code",
   "execution_count": null,
   "metadata": {},
   "outputs": [
    {
     "name": "stdout",
     "output_type": "stream",
     "text": [
      "Bem vindo ao Calculador de Área de Paralelograma\n"
     ]
    }
   ],
   "source": [
    "print(\"Bem vindo ao Calculador de Área de Paralelograma\")"
   ]
  },
  {
   "cell_type": "code",
   "execution_count": 11,
   "metadata": {},
   "outputs": [
    {
     "name": "stdout",
     "output_type": "stream",
     "text": [
      "4.0\n"
     ]
    }
   ],
   "source": [
    "base = float(input(\"Inserir comprimento base: \"))\n",
    "print(base)"
   ]
  },
  {
   "cell_type": "code",
   "execution_count": 12,
   "metadata": {},
   "outputs": [
    {
     "name": "stdout",
     "output_type": "stream",
     "text": [
      "10.0\n"
     ]
    }
   ],
   "source": [
    "altura = float(input(\"Inserir a altura: \"))\n",
    "print(altura)"
   ]
  },
  {
   "cell_type": "code",
   "execution_count": 17,
   "metadata": {},
   "outputs": [
    {
     "name": "stdout",
     "output_type": "stream",
     "text": [
      "Valor da área calculada: 40.0\n"
     ]
    }
   ],
   "source": [
    "area = base * altura\n",
    "print(\"Valor da área calculada:\",area)"
   ]
  },
  {
   "cell_type": "markdown",
   "metadata": {},
   "source": [
    "# Pseudocódigo 2 - Calculadora Simples\n",
    "Nota: Calculadora com apanea quatro funções simples como somar, subtrair, dividir ne multiplicação. "
   ]
  },
  {
   "cell_type": "markdown",
   "metadata": {},
   "source": [
    "**Inicie**\n",
    "- Exiba \"Bem vindo a calculadora simples\"\n",
    "- Peça para inserir o primeiro valor\n",
    "- Armazene o primeiro valor em uma variável \n",
    "- Peça para inserir o segundo valor\n",
    "- Armazene o segundo valor em uma segundo variável\n",
    "- Peça para escolher qual tipo de calculo gostaria realizer\n",
    "- Exiba na tela as quadro opções \"somar, subtrair, dividir e multiplicar\"\n",
    "- Armazene a opção selecionada em uma variável\n",
    "- Caso o valor escolhido seja \"somar\" aplique a seguinte regra valor1 + valor2\n",
    "- Caso o valor escolhido seja \"subtrair\" aplique a seguinte regra valor1 - valor2\n",
    "- Caso o valor escolhido seja \"dividir\" aplique a seguinte regra valor1 / valor2\n",
    "- Caso o valor escolhido seja \"multiplicar\" aplique a seguinte regra valor1 * valor2\n",
    "- Armazene o resultado em uma variável\n",
    "- Exiba o resultado\n",
    "\n",
    "**Fim**"
   ]
  },
  {
   "cell_type": "code",
   "execution_count": 31,
   "metadata": {},
   "outputs": [
    {
     "name": "stdout",
     "output_type": "stream",
     "text": [
      "Bem vindo a calculadora simples\n"
     ]
    }
   ],
   "source": [
    "print(\"Bem vindo a calculadora simples\")"
   ]
  },
  {
   "cell_type": "code",
   "execution_count": 95,
   "metadata": {},
   "outputs": [
    {
     "name": "stdout",
     "output_type": "stream",
     "text": [
      "10.0\n"
     ]
    }
   ],
   "source": [
    "primeiro_valor = float(input(\"Digite um número: \"))\n",
    "print(primeiro_valor)"
   ]
  },
  {
   "cell_type": "code",
   "execution_count": 99,
   "metadata": {},
   "outputs": [
    {
     "name": "stdout",
     "output_type": "stream",
     "text": [
      "0.0\n"
     ]
    }
   ],
   "source": [
    "segundo_valor = float(input(\"Digite um número: \"))\n",
    "print(segundo_valor)"
   ]
  },
  {
   "cell_type": "code",
   "execution_count": 97,
   "metadata": {},
   "outputs": [
    {
     "name": "stdout",
     "output_type": "stream",
     "text": [
      "/\n"
     ]
    }
   ],
   "source": [
    "operacao = input(\"Escolha a operação: +, -, *, /\")\n",
    "print(operacao)"
   ]
  },
  {
   "cell_type": "code",
   "execution_count": 100,
   "metadata": {},
   "outputs": [
    {
     "name": "stdout",
     "output_type": "stream",
     "text": [
      "Não é possível dividir por zero\n"
     ]
    },
    {
     "ename": "",
     "evalue": "",
     "output_type": "error",
     "traceback": [
      "\u001b[1;31mThe Kernel crashed while executing code in the the current cell or a previous cell. Please review the code in the cell(s) to identify a possible cause of the failure. Click <a href='https://aka.ms/vscodeJupyterKernelCrash'>here</a> for more info. View Jupyter <a href='command:jupyter.viewOutput'>log</a> for further details."
     ]
    }
   ],
   "source": [
    "if operacao == \"+\":\n",
    "    resultado = primeiro_valor + segundo_valor\n",
    "    print(resultado)\n",
    "elif operacao == \"-\":\n",
    "    resultado = primeiro_valor - segundo_valor\n",
    "    print(resultado)\n",
    "elif operacao == \"*\":\n",
    "    resultado = primeiro_valor * segundo_valor\n",
    "    print(resultado)\n",
    "elif operacao == \"/\":\n",
    "    if primeiro_valor == 0:\n",
    "        print(\"Não é possível dividir por zero\")\n",
    "    elif segundo_valor == 0:\n",
    "        print(\"Não é possível dividir por zero\")\n",
    "    else:\n",
    "        resultado = primeiro_valor / segundo_valor\n",
    "        print(resultado)\n",
    "else:\n",
    "    print(\"operação invalida.\")"
   ]
  }
 ],
 "metadata": {
  "kernelspec": {
   "display_name": "Python 3",
   "language": "python",
   "name": "python3"
  },
  "language_info": {
   "codemirror_mode": {
    "name": "ipython",
    "version": 3
   },
   "file_extension": ".py",
   "mimetype": "text/x-python",
   "name": "python",
   "nbconvert_exporter": "python",
   "pygments_lexer": "ipython3",
   "version": "3.12.0rc3"
  }
 },
 "nbformat": 4,
 "nbformat_minor": 2
}
