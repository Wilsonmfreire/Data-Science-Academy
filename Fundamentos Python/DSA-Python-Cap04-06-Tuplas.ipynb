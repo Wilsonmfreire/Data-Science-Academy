{
 "cells": [
  {
   "cell_type": "markdown",
   "metadata": {},
   "source": [
    "# Data Science Academy\n",
    "\n",
    "# Fundamentos de Linguagem python para análise de dados e data science\n",
    "\n",
    "# Capítulo 4 - Estrutura de dados (tuplas)"
   ]
  },
  {
   "cell_type": "code",
   "execution_count": 1,
   "metadata": {},
   "outputs": [
    {
     "name": "stdout",
     "output_type": "stream",
     "text": [
      "Versão da linguagem Python usada nesse notebook: 3.12.0rc3\n"
     ]
    }
   ],
   "source": [
    "# versão da linguagem Python\n",
    "from platform import python_version\n",
    "print('Versão da linguagem Python usada nesse notebook:', python_version())"
   ]
  },
  {
   "cell_type": "markdown",
   "metadata": {},
   "source": [
    "### Trabalhando com Tuplas\n",
    "\n",
    "São estruturas limitadas, normalmente usada para uma saída de algum resultado imutavel, para evitar que mude a estrutura de dados. \n",
    "Quando trabalhamos com parametros que não podem ser alterados usamos tuplas.</br>\n",
    "Para alterar uma tupla uma alternativa é converter lá para uma lista e depois converter para tupla novamente.\n",
    "</br>\n",
    "- Tuplas não suportam append()</br>\n",
    "- Tuplas não suportam delete de um item específico </br>\n",
    "- Tuplas podem ter um único item"
   ]
  },
  {
   "cell_type": "code",
   "execution_count": 3,
   "metadata": {},
   "outputs": [
    {
     "data": {
      "text/plain": [
       "('Geografia', 23, 'Elefante', 9.8, 'Python')"
      ]
     },
     "execution_count": 3,
     "metadata": {},
     "output_type": "execute_result"
    }
   ],
   "source": [
    "# Criando uma tupla\n",
    "tupla = ('Geografia', 23, 'Elefante', 9.8, 'Python')\n",
    "tupla"
   ]
  },
  {
   "cell_type": "code",
   "execution_count": 12,
   "metadata": {},
   "outputs": [],
   "source": [
    "# Usando a função list() para converter uma tupla para lista\n",
    "lista_t1 = list(tupla)"
   ]
  },
  {
   "cell_type": "code",
   "execution_count": 17,
   "metadata": {},
   "outputs": [],
   "source": [
    "lista_t1.append('Macaco')\n"
   ]
  },
  {
   "cell_type": "code",
   "execution_count": 19,
   "metadata": {},
   "outputs": [
    {
     "data": {
      "text/plain": [
       "('Geografia', 23, 'Elefante', 9.8, 'Python', 'Macaco', 'Macaco', 'Macaco')"
      ]
     },
     "execution_count": 19,
     "metadata": {},
     "output_type": "execute_result"
    }
   ],
   "source": [
    "tupla = tuple(lista_t1)\n",
    "tupla"
   ]
  }
 ],
 "metadata": {
  "kernelspec": {
   "display_name": "Python 3",
   "language": "python",
   "name": "python3"
  },
  "language_info": {
   "codemirror_mode": {
    "name": "ipython",
    "version": 3
   },
   "file_extension": ".py",
   "mimetype": "text/x-python",
   "name": "python",
   "nbconvert_exporter": "python",
   "pygments_lexer": "ipython3",
   "version": "3.12.0rc3"
  }
 },
 "nbformat": 4,
 "nbformat_minor": 2
}
